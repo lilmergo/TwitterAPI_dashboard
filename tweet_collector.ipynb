{
 "cells": [
  {
   "cell_type": "code",
   "execution_count": 48,
   "id": "2eb049e4-2f3a-483f-bcaf-67c791620d2f",
   "metadata": {},
   "outputs": [],
   "source": [
    "import requests\n",
    "import json\n",
    "import pandas as pd\n",
    "import os"
   ]
  },
  {
   "cell_type": "code",
   "execution_count": 49,
   "id": "032ff01f-f2f7-4dc6-8363-c8cf900625ca",
   "metadata": {},
   "outputs": [],
   "source": [
    "#environment variables\n",
    "bearer_token = \"AAAAAAAAAAAAAAAAAAAAANqgWAEAAAAAjebgE2riBRW%2BRY3bLEfWyRXSEao%3DuZnQFTlyRppafAa24BQiDDf0TIYaYgpSpTgDMu5anfZ8zPNelr\"\n",
    "search_url = \"https://api.twitter.com/2/tweets/search/recent\""
   ]
  },
  {
   "cell_type": "code",
   "execution_count": 50,
   "id": "02976e3c-3953-4df9-9306-ddacf76db580",
   "metadata": {},
   "outputs": [],
   "source": [
    "# template for queries\n",
    "# {'query': 'messi','tweet.fields': 'public_metrics,entities,created_at','user.fields':'verified','expansions':'author_id'}"
   ]
  },
  {
   "cell_type": "code",
   "execution_count": 51,
   "id": "cf2188d4-6c3f-470f-87ff-178915915182",
   "metadata": {},
   "outputs": [],
   "source": [
    "#functions for authentication and conntecting to api endpoints\n",
    "def bearer_oauth(r):\n",
    "    r.headers[\"Authorization\"] = f\"Bearer {bearer_token}\"\n",
    "    r.headers[\"User-Agent\"] = \"v2RecentSearchPython\"\n",
    "    return r\n",
    "\n",
    "def connect_to_endpoint(url, params):\n",
    "    response = requests.get(url, auth=bearer_oauth, params=params)\n",
    "    print(response.status_code)\n",
    "    if response.status_code != 200:\n",
    "        raise Exception(response.status_code, response.text)\n",
    "    return response.json()\n",
    "#,'DeBrusk','#Timbiebs','Seattle','Seager','Gausman','Seahawks','Marchand','Robbie Ray','#Flames1stGoal'"
   ]
  },
  {
   "cell_type": "code",
   "execution_count": 76,
   "id": "56df3b58-f3ee-46e2-bcd5-f48a61270d87",
   "metadata": {},
   "outputs": [
    {
     "name": "stdout",
     "output_type": "stream",
     "text": [
      "current topic: Messi\n",
      "200\n",
      "200\n",
      "b26v89c19zqg8o3fpdy8xl9o4jc8c7tbwxeyp5jxeyut9\n",
      "200\n",
      "b26v89c19zqg8o3fpdy8xl9o4j4sghznbfy4ng2379im5\n",
      "200\n",
      "b26v89c19zqg8o3fpdy8xl9o4j4qaf764hiss5hjcsbr1\n",
      "200\n",
      "b26v89c19zqg8o3fpdy8xl9o4j4o4yboprgdepxmeb7ul\n",
      "200\n",
      "b26v89c19zqg8o3fpdy8xl9o4j4n1gj82xnwru7wfsjgd\n",
      "200\n",
      "b26v89c19zqg8o3fpdy8xl9o4j4jshvawl6nzcpraqs1p\n",
      "200\n",
      "b26v89c19zqg8o3fpdy8xl9o4ix3w66xskt7dd4620upp\n",
      "200\n",
      "b26v89c19zqg8o3fpdy8xl9o4ix0oq8f2gnr7u0kkmxz1\n",
      "200\n",
      "b26v89c19zqg8o3fpdy8xl9o4iwzlj9uhrzpw23884q65\n",
      "200\n",
      "b26v89c19zqg8o3fpdy8xl9o4iwxfgiwcev2srupecbr1\n"
     ]
    }
   ],
   "source": [
    "#all topics\n",
    "topics = ['Messi']\n",
    "#turn json to string and write to json file\n",
    "\n",
    "for topic in topics:\n",
    "    print('current topic:',topic)\n",
    "    #for topic in topics:\n",
    "    #replace query parameter \n",
    "    #multiple queries to limit nesting in JSON\n",
    "    query_params = {\n",
    "        'query': topic,\n",
    "        'tweet.fields': 'public_metrics,entities,created_at,lang',\n",
    "        'user.fields':'verified',\n",
    "        'expansions':'author_id',\n",
    "        'max_results':'10'\n",
    "    }\n",
    "    \n",
    "    #getting json\n",
    "    json_response = connect_to_endpoint(search_url, query_params)\n",
    "    \n",
    "    #get next page if available\n",
    "    next_token=json_response.get('meta').get('next_token')\n",
    "    count = 0\n",
    "    while count<10 and next_token!=None:\n",
    "        count+=1\n",
    "        query_params = {\n",
    "        'query': topic,\n",
    "        'tweet.fields': 'public_metrics,entities,created_at,lang',\n",
    "        'user.fields':'verified',\n",
    "        'expansions':'author_id',\n",
    "        'max_results':'10',\n",
    "        'next_token':next_token    \n",
    "        }\n",
    "        new_data = connect_to_endpoint(search_url, query_params)\n",
    "        for item in new_data['data']:\n",
    "            json_response['data'].append(item)\n",
    "        for item in new_data['includes']['users']:\n",
    "            if item not in json_response['includes']['users']:#only add unique users\n",
    "                json_response['includes']['users'].append(item) \n",
    "        next_token=new_data.get('meta').get('next_token')g\n",
    "    path= os.getcwd()\n",
    "    #turn json to string and write to json file\n",
    "    json_response.pop('meta')\n",
    "    with open(path+'\\\\json_responses\\\\'+topic+'.json', 'w') as f:\n",
    "         json.dump(json_response, f, sort_keys = True, indent=4)\n",
    "    f.close()\n",
    "\n",
    "    \n",
    "    \n",
    "\n",
    "\n",
    "    "
   ]
  },
  {
   "cell_type": "code",
   "execution_count": 70,
   "id": "0ea2002b-4ae4-4317-9766-243baa476f0d",
   "metadata": {},
   "outputs": [],
   "source": [
    "\n",
    "\n",
    "    #tableau can interpret json files"
   ]
  },
  {
   "cell_type": "code",
   "execution_count": 54,
   "id": "325b068a-83fe-4594-a9b6-84fe1aa4d855",
   "metadata": {},
   "outputs": [],
   "source": [
    "# add fields to json file\n",
    "# if file contains hashtags"
   ]
  }
 ],
 "metadata": {
  "kernelspec": {
   "display_name": "Python 3 (ipykernel)",
   "language": "python",
   "name": "python3"
  },
  "language_info": {
   "codemirror_mode": {
    "name": "ipython",
    "version": 3
   },
   "file_extension": ".py",
   "mimetype": "text/x-python",
   "name": "python",
   "nbconvert_exporter": "python",
   "pygments_lexer": "ipython3",
   "version": "3.9.5"
  }
 },
 "nbformat": 4,
 "nbformat_minor": 5
}
